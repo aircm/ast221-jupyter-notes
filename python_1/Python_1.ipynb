{
 "cells": [
  {
   "cell_type": "markdown",
   "id": "e9ad81ff",
   "metadata": {},
   "source": [
    "## FILL IN YOUR NAME AND UTORID HERE\n",
    "Name: Mu Miao\n",
    "\n",
    "UTORID: miaomu\n",
    "\n",
    "Python Assignment 1:\n",
    "==========================================================\n",
    "\n",
    "## Before you begin\n",
    "\n",
    "Assuming you have loaded this file into your Jupyter Notebooks workspace, make sure to press the \"play\" button at the top of the page in each box. This will render the Markdown into nicely-formatted text and execute all of the sections of Python code. You can also hit \"shift\"+\"enter\" for the same result.\n",
    "\n",
    "## Introduction\n",
    "\n",
    "This Jupyter Notebook will serve as the template for your Python 1 assignment. You will be working through the content it contains and then filling in your own work in the spaces provided. There are detailed instructions on how to prepare your assignment available on Quercus under \"Python 1\" in the week 2 module. Make sure you consult those instructions.\n",
    "\n",
    "Those of you with some programming experience will find the early parts of this assignment very easy. That's okay. Please just speed through them and don't worry about it. But for those who are new to programming, the early portions should give you some experience in modifying pre-existing code and showing you the syntax for typical calculations and plots that you will be asked to produce later in the course.\n",
    "\n",
    "## PART 1: MODIFYING CODE\n",
    "\n",
    "The following sections of code will take you through a short progression from one of the very simplest pieces of code you can write to a few things that are a little bit more complex. In case you wind up searching the Internet for help, keep in mind that this code is written in Python 3. You will find a lot of documentation for previous versions of Python which may not be compatible.\n",
    "\n",
    "As you modify each of the following segments of code, remember to hit the \"play\" button at the top of the notebooks interface so that the cell containing the code \"runs\" (you can also hit Shift+Return for the same functionality). It should display the output of the piece of code just below that cell. You can run every cell in this notebook before you modify it, just to see what it produces. If you find any of this confusing or overwhelming, please refer back to the programming resources on Quercus. The \"Introduction to Programming\" guide contains links to some documents that should help you.\n",
    "\n",
    "Let's get started!\n",
    "\n",
    "Modify the following print statement so that it prints \"This is a print statement in Python.\""
   ]
  },
  {
   "cell_type": "code",
   "execution_count": 1,
   "id": "c273424d",
   "metadata": {},
   "outputs": [
    {
     "name": "stdout",
     "output_type": "stream",
     "text": [
      "This is a print statement in Python.\n"
     ]
    }
   ],
   "source": [
    "# QUESTION 1: Modify the following statement\n",
    "\n",
    "print(\"This is a print statement in Python.\")"
   ]
  },
  {
   "cell_type": "markdown",
   "id": "cc867a41",
   "metadata": {},
   "source": [
    "It is relatively straightforward to do simple calculations in python. This [link](https://www.tutorialspoint.com/python/python_basic_operators.htm) shows you the syntax needed for mathematical operations. You can do calculations on single numbers, on variables, and even on arrays of numbers.\n",
    "\n",
    "The following print statement combines text and the output of a calculation. Modify the following print statement so that it prints the output of the calculation 3 times 7."
   ]
  },
  {
   "cell_type": "code",
   "execution_count": 2,
   "id": "5a7763c0",
   "metadata": {},
   "outputs": [
    {
     "name": "stdout",
     "output_type": "stream",
     "text": [
      "Three times seven equals 21\n"
     ]
    }
   ],
   "source": [
    "# QUESTION 2: Modify the following statement\n",
    "\n",
    "print(\"Three times seven equals\",3*7)"
   ]
  },
  {
   "cell_type": "markdown",
   "id": "8e44012d",
   "metadata": {},
   "source": [
    "In programming, we often use loops to execute the same piece of code repeatedly, altering some aspect each time it executes. For example, we might want to print the numbers from 1 to 10, which we can do like this:"
   ]
  },
  {
   "cell_type": "code",
   "execution_count": 3,
   "id": "22122b84",
   "metadata": {},
   "outputs": [
    {
     "name": "stdout",
     "output_type": "stream",
     "text": [
      "1\n",
      "2\n",
      "3\n",
      "4\n",
      "5\n",
      "6\n",
      "7\n",
      "8\n",
      "9\n",
      "10\n"
     ]
    }
   ],
   "source": [
    "for number in range(1,11):\n",
    "    print(number)"
   ]
  },
  {
   "cell_type": "markdown",
   "id": "519dc003",
   "metadata": {},
   "source": [
    "There are a few things to note here. One is the use of a colon (:) at the end of the first line. In this case, the colon indicates that we are beginning a loop. The subsequent lines must be indented. If you are writing your program using Jupyter Notebooks, it will automatically indent code for you on lines following a colon. Note that we have also used the \"range\" function and given it the parameters (1,11). This means we are asking it to give us all the whole numbers greater than or equal to one and less than 11. This is why it stops at 10. 10 is the last whole number less than 11. The value of the variable **number** changes in each iteration of the loop from 1 to 10, increasing by one each time.\n",
    "\n",
    "In the blank cell that follows, write a for loop that will print the numbers from 39 to 52, including both ends of that sequence."
   ]
  },
  {
   "cell_type": "code",
   "execution_count": 4,
   "id": "c066f492",
   "metadata": {},
   "outputs": [
    {
     "name": "stdout",
     "output_type": "stream",
     "text": [
      "39\n",
      "40\n",
      "41\n",
      "42\n",
      "43\n",
      "44\n",
      "45\n",
      "46\n",
      "47\n",
      "48\n",
      "49\n",
      "50\n",
      "51\n",
      "52\n"
     ]
    }
   ],
   "source": [
    "# QUESTION 3: Write a simple for loop\n",
    "for number in range(39,53):\n",
    "    print(number)"
   ]
  },
  {
   "cell_type": "markdown",
   "id": "c1deac16",
   "metadata": {},
   "source": [
    "Now try combining the two things you have learned so far: print statements and for loops. Write a for loop that prints \"The square of (number) equals (result)\", for all numbers from 1 to 10. Note the notation for calculations including exponents."
   ]
  },
  {
   "cell_type": "code",
   "execution_count": 5,
   "id": "de72e08f",
   "metadata": {},
   "outputs": [
    {
     "name": "stdout",
     "output_type": "stream",
     "text": [
      "The square of  1  equals  1\n",
      "The square of  2  equals  4\n",
      "The square of  3  equals  9\n",
      "The square of  4  equals  16\n",
      "The square of  5  equals  25\n",
      "The square of  6  equals  36\n",
      "The square of  7  equals  49\n",
      "The square of  8  equals  64\n",
      "The square of  9  equals  81\n",
      "The square of  10  equals  100\n"
     ]
    }
   ],
   "source": [
    "# QUESTION 4: Write a more complicated for loop\n",
    "\n",
    "# Loop from 1 to 10, including both ends\n",
    "for number in range (1, 11):\n",
    "    # Print the result as required\n",
    "    print(\"The square of \", number, \" equals \", number * number)"
   ]
  },
  {
   "cell_type": "markdown",
   "id": "506afb39",
   "metadata": {},
   "source": [
    "## PART 2: READING IN DATA & CALCULATIONS"
   ]
  },
  {
   "cell_type": "markdown",
   "id": "56f4d07c",
   "metadata": {},
   "source": [
    "In this and future courses, one of the things you will be doing fairly often is reading and manipulating data,  performing mathematical calculations and making various types of plots. In this assignment, for example, you will be reading in a table showing the predicted location of the Sun in the sky as a function of time.\n",
    "\n",
    "Before we can read and plot data, we have to recruit some pre-existing code to help us out. Writing all of the code ourselves would be very tedious, so instead we use \"libraries\" of code. The libraries you will need already exist on the server you are using. To incorporate them into your code, you use the \"import\" function like this:\n",
    "\n",
    "import LibraryWithALongName as lb\n",
    "\n",
    "This line of code will import the library called \"LibraryWithALongName\" and rename it \"lb\". The purpose of abbreviating the name is so that we don't have to constantly type out the incredibly long but descriptive name of the library. It makes the code harder to read, but much easier to produce. So, there is a trade-off.\n",
    "\n",
    "Within the library \"lb\", There will be many different pieces of code. You can think of these as books within an actual library. To invoke any given book, we simply append its name to that of the library with the period, like this:\n",
    "\n",
    "lb.book\n",
    "\n",
    "Usually these \"books\" are \"methods\" or \"functions\" that do something. Often we have to give them variables or \"arguments\" to do something _to_. That would look like this:\n",
    "\n",
    "lb.book(arguments)\n",
    "\n",
    "Again, if you aren't a computer scientist, you don't need to worry too much right now about the technical terminology for all of this or how it works in detail. We will introduce the syntax and usage of most functions you will need to complete the assignments.\n",
    "\n",
    "Here is some code to read in a dataset that is contained in a text file, in the form of columns separated by spaces. The code starts by importing a library called numpy, which contains many useful functions for working with data. Any line in the code that begins with a hash mark (#), is a comment, meaning a note to ourselves that will not actually be run as code. These comments are included to help us remember what our code does. You should always include them to help the TAs interpret your code. If you don't include enough of them, your grade will be reduced.\n",
    "\n",
    "Try to see if you can read the following code with the help of the comments. Note that the convention is usually that we place the comment above the section of code to which it pertains."
   ]
  },
  {
   "cell_type": "code",
   "execution_count": 6,
   "id": "0ae5b51d",
   "metadata": {},
   "outputs": [
    {
     "name": "stdout",
     "output_type": "stream",
     "text": [
      "[ 0.3871  0.7233  1.      1.5236  5.2044  9.5826 19.2012 30.0476 39.4817\n",
      " 67.89  ]\n",
      "[2.40800e-01 6.15200e-01 1.00000e+00 1.88080e+00 1.18618e+01 2.94567e+01\n",
      " 8.40107e+01 1.64790e+02 2.47680e+02 5.59000e+02]\n"
     ]
    }
   ],
   "source": [
    "# The numpy library contains some useful functions that we will use below.\n",
    "import numpy as np\n",
    "\n",
    "# Here we will read in data from Appendix C in Carroll & Ostlie.\n",
    "# You will need the file \"AppendixC_2.dat\" in the syzygy directory you are working in currently.\n",
    "# You can look at the file contents by opening it in syzygy, or in your favourite text editor.\n",
    "# We are reading in three columns from the Planetary Orbital and Satellite Data section of Appendix C.\n",
    "# Here, axis_a will be an array that contains the column \"Semimajor axis (au)\"\n",
    "# ecc will contain the column \"Orbital Eccentricity\"\n",
    "# period will contain the column \"Sidereal Orbital Period (yr)\"\n",
    "# We use the numpy function 'loadtxt' to read in the data - if we wanted to read in any text rather than\n",
    "# just numbers, we would use the numpy function 'genfromtxt' instead.\n",
    "# We tell the function which columns to read (remembering that numbering starts at zero in python!).\n",
    "# We also tell the function to skip the first four rows, which contain information about the table and the\n",
    "# units of the data.\n",
    "# Finally, the unpack setting tells the function to put each column in a different array.\n",
    "\n",
    "axis_a, ecc, period = np.loadtxt('AppendixC_2.dat',usecols=(1,2,3),skiprows=4,unpack=True)\n",
    "\n",
    "# You can print one of the arrays to make sure the values are there:\n",
    "print(axis_a)\n",
    "\n",
    "# Let me try another one\n",
    "print(period)"
   ]
  },
  {
   "cell_type": "code",
   "execution_count": 7,
   "id": "52ba66ea",
   "metadata": {},
   "outputs": [
    {
     "data": {
      "text/plain": [
       "Text(0, 0.5, 'Period (years)')"
      ]
     },
     "execution_count": 7,
     "metadata": {},
     "output_type": "execute_result"
    },
    {
     "data": {
      "image/png": "[encoded data removed]",
      "text/plain": [
       "<Figure size 432x288 with 1 Axes>"
      ]
     },
     "metadata": {
      "needs_background": "light"
     },
     "output_type": "display_data"
    }
   ],
   "source": [
    "# Working in python is great for plotting data.\n",
    "# Next, we'll recreate Figure 2.3 in C&O\n",
    "# First, we need to import the matplotlib.pyplot library\n",
    "import matplotlib.pyplot as plt\n",
    "import matplotlib\n",
    "# This command allows your plots to show up below your code in your Jupyter notebook\n",
    "%matplotlib inline\n",
    "\n",
    "# Create a figure to plot in. Inside the brackets, you can set things like figsize=(6,4), or the dpi (dots per inch).\n",
    "fig=plt.figure()\n",
    "\n",
    "# 'scatter' creates a scatter plot. You can use different keywords to make the data points different shapes, sizes,\n",
    "# or colours.  'plot' will join points together.\n",
    "# When plotting, the x-axis array is first, the y-axis second, and then any keywords to\n",
    "# change the appearance of your plot come after. Here we are using the default 'dot' plot\n",
    "# symbol, setting the size to be 10 points, and the plot symbols will be black:\n",
    "plt.scatter(axis_a, period, s=10, color='black')\n",
    "\n",
    "# Always add axis labels! Include units when needed.\n",
    "plt.xlabel('Semimajor axis (au)')\n",
    "plt.ylabel('Period (years)')\n"
   ]
  },
  {
   "cell_type": "code",
   "execution_count": 8,
   "id": "e45e0745",
   "metadata": {},
   "outputs": [
    {
     "data": {
      "image/png": "[encoded data removed]",
      "text/plain": [
       "<Figure size 432x288 with 1 Axes>"
      ]
     },
     "metadata": {
      "needs_background": "light"
     },
     "output_type": "display_data"
    }
   ],
   "source": [
    "# The points on the graph suggest that there is a relationship between the semimajor axis and the period,\n",
    "# but as we know that relationship is not linear! Using logarithmic axes can allow us to identify and measure\n",
    "# how variables are related.\n",
    "\n",
    "# Here we will recreate the above plot, but make the axes logarithmic:\n",
    "fig=plt.figure()\n",
    "\n",
    "plt.scatter(axis_a, period, s=10, color='black')\n",
    "\n",
    "plt.xlabel('Semimajor axis (au)')\n",
    "plt.ylabel('Period (years)')\n",
    "\n",
    "# Here we change the axis scaling to logarithmic\n",
    "plt.xscale('log')\n",
    "plt.yscale('log')"
   ]
  },
  {
   "cell_type": "markdown",
   "id": "01119f19",
   "metadata": {},
   "source": [
    "Next we will fit a straight line to the data points. The simplest way to do this is use least squares linear regression, where you minimize the distance of your data points from the best-fit line. You can read more about how this works [here](https://towardsdatascience.com/linear-regression-using-least-squares-a4c3456e8570). For this assignment, we'll use a pre-packaged function but you may need to write your own code in a later assignment!"
   ]
  },
  {
   "cell_type": "code",
   "execution_count": 9,
   "id": "79ad4f64",
   "metadata": {},
   "outputs": [
    {
     "name": "stdout",
     "output_type": "stream",
     "text": [
      "Slope =  1.4996964761445348 ; Intercept =  -0.0002609693136015334\n"
     ]
    }
   ],
   "source": [
    "# Now we see there is a linear relationship!\n",
    "# By fitting a straight line to the logarithm of the data points, we can test whether Kepler's law is correct:\n",
    "# We can import another library that does the fitting for us. In this case we will use least-squares linear regression.\n",
    "from scipy import stats\n",
    "\n",
    "# The np.log10() function will take the base 10 logarithm of the number in the brackets. If you put an array in the\n",
    "# brackets, it will take the base 10 logarithm of each value in the array. The np.log() function gives ln(x), so be\n",
    "# careful to include the 10!\n",
    "\n",
    "# Here again, your x variable is first, and your y variable is second.\n",
    "fit = stats.linregress(np.log10(axis_a),np.log10(period))\n",
    "\n",
    "# Fit is an array. To access different values within an array in python, you use the syntax:\n",
    "# array[0] -- gives you the first element in the array (python starts counting at zero)\n",
    "# array[1] -- gives you the second element in the array\n",
    "\n",
    "# Here, fit[0] contains the slope, while fit[1] contains the intercept of the best-fit line.\n",
    "# Other values in fit provide measures of the goodness-of-fit, etc.\n",
    "slope = fit[0]\n",
    "intercept = fit[1]\n",
    "print(\"Slope = \",slope,\"; Intercept = \",intercept)"
   ]
  },
  {
   "cell_type": "code",
   "execution_count": 10,
   "id": "f473d918",
   "metadata": {},
   "outputs": [
    {
     "data": {
      "image/png": "[encoded data removed]",
      "text/plain": [
       "<Figure size 432x288 with 1 Axes>"
      ]
     },
     "metadata": {
      "needs_background": "light"
     },
     "output_type": "display_data"
    }
   ],
   "source": [
    "# QUESTION 5\n",
    "# Let's again recreate our plot, but include the best-fit line:\n",
    "# To do this, we can create a new array of y-values, given the x-values (axis_a), and the fit slope and intercept\n",
    "# We fit the data in log space with a linear relationship of the form y = mx + b\n",
    "\n",
    "# Modify the expression here to provide the correct y-values for your fit, given the values for axis_a\n",
    "# This isn't right! Change it!\n",
    "# 1st step: np.log10(axis_a) satisfies the \"x\" of the linear relationship y=mx + b, because \"fit\" we have got\n",
    "# is logarithm.\n",
    "# 2nd step: plug in y = mx + b, while m is slope, and b is intercept. Note that the result y is base 10 logarithm\n",
    "# 3rd step: 10^y get the y_fit\n",
    "y_fit = 10**(slope * np.log10(axis_a) + intercept)\n",
    "\n",
    "# And then plot\n",
    "fig=plt.figure()\n",
    "\n",
    "plt.scatter(axis_a, period, s=10, color='black')\n",
    "# Use another plot command to plot our line. Let's make it red. If you don't see a fit line, check your\n",
    "# expression for y_fit above!\n",
    "plt.plot(axis_a,y_fit,color='red')\n",
    "\n",
    "plt.xlabel('Semimajor axis (au)')\n",
    "plt.ylabel('Period (years)')\n",
    "\n",
    "plt.xscale('log')\n",
    "plt.yscale('log')"
   ]
  },
  {
   "cell_type": "markdown",
   "id": "5ae2365f",
   "metadata": {},
   "source": [
    "## Part 3: Jupiter's moons ##"
   ]
  },
  {
   "cell_type": "markdown",
   "id": "7d6b161a",
   "metadata": {},
   "source": [
    "In future assignments we may dig into linear regression more. For now, your next step is to check whether the same relationship holds for Jupiter and its satellites.\n",
    "\n",
    "Follow the same steps above to read in the orbital data for Jupiter and its major moons.\n",
    "You will find the data in the file \"AppendixC_3.dat\", which you should upload to your syzygy folder. You will need to select which columns are needed, and how many header rows to skip!\n",
    "Plot in log space the period vs. semimajor axis. Fit the data and determine the slope and intercept. Plot your best-fit line over the data. You only need to create one final plot, rather than all the intermediate plots we produced above, but sometimes creating intermediate plots while you are working is useful. Tip: be careful with units!"
   ]
  },
  {
   "cell_type": "code",
   "execution_count": 11,
   "id": "c9904c27",
   "metadata": {},
   "outputs": [
    {
     "data": {
      "text/plain": [
       "[<matplotlib.lines.Line2D at 0x1420c0160>]"
      ]
     },
     "execution_count": 11,
     "metadata": {},
     "output_type": "execute_result"
    },
    {
     "data": {
      "image/png": "[encoded data removed]",
      "text/plain": [
       "<Figure size 432x288 with 1 Axes>"
      ]
     },
     "metadata": {
      "needs_background": "light"
     },
     "output_type": "display_data"
    }
   ],
   "source": [
    "# QUESTION 6\n",
    "# Read in the required data\n",
    "# Load orbital period and semimajor axis\n",
    "period, axis_a = np.loadtxt('AppendixC_3.dat',usecols=(5, 6),skiprows=4,unpack=True)\n",
    "\n",
    "# Convert axis_a unit from 10^3 km to m by multiplying 10^6\n",
    "axis_a = 10**6 * axis_a\n",
    "\n",
    "# Convert period unit from day to seconds by multiplying 86400\n",
    "period = 86400 * period\n",
    "\n",
    "# Create your plot. Remember to include labels on your axes!\n",
    "fig=plt.figure()\n",
    "\n",
    "# plot all the points in black color with 10-point size\n",
    "plt.scatter(axis_a, period, s=10, color='black')\n",
    "\n",
    "# Set in logarithmic\n",
    "plt.xscale('log')\n",
    "plt.yscale('log')\n",
    "\n",
    "# Label the plot\n",
    "plt.xlabel('Semimajor Axis (m)')\n",
    "plt.ylabel('Orbital Period (s)')\n",
    "\n",
    "\n",
    "# Perform a linear fit\n",
    "# fit[0] is the slope\n",
    "# fit[1] is. the intercept\n",
    "fit = stats.linregress(np.log10(axis_a),np.log10(period))\n",
    "slope = fit[0]\n",
    "intercept = fit[1]\n",
    "\n",
    "# Calculate your y-values given your fit\n",
    "# Get y fit the way similar to the last quesiton\n",
    "# 1st step: np.log10(axis_a) satisfies the \"x\" of the linear relationship y=mx + b, because \"fit\" we have got\n",
    "# is logarithm.\n",
    "# 2nd step: plug in y = mx + b, while m is slope, and b is intercept. Note that the result y is base 10 logarithm\n",
    "# 3rd step: 10^y get the y_fit\n",
    "y_fit = 10**(slope * np.log10(axis_a) + intercept)\n",
    "\n",
    "\n",
    "# Plot your best-fit line on the data\n",
    "plt.plot(axis_a,y_fit,color='red')"
   ]
  },
  {
   "cell_type": "code",
   "execution_count": 12,
   "id": "08873539",
   "metadata": {},
   "outputs": [
    {
     "name": "stdout",
     "output_type": "stream",
     "text": [
      "slope is:  1.4998014808354907\n",
      "intercept is:  -7.751389192310705\n"
     ]
    }
   ],
   "source": [
    "# QUESTION 7\n",
    "# Use a print statement to output your slope and intercept.\n",
    "print(\"slope is: \", slope)\n",
    "print(\"intercept is: \", intercept)\n"
   ]
  },
  {
   "cell_type": "markdown",
   "id": "33177701",
   "metadata": {},
   "source": [
    "### QUESTION 8:\n",
    "Calculate the mass of Jupiter based on your result and provide it here. When submitting your assignmment, upload a second pdf showing your calculation for this problem.\n"
   ]
  },
  {
   "cell_type": "code",
   "execution_count": 13,
   "id": "e321740f",
   "metadata": {},
   "outputs": [
    {
     "name": "stdout",
     "output_type": "stream",
     "text": [
      "Jupiter's mass is 1.896381337742306e+27 kg\n"
     ]
    }
   ],
   "source": [
    "# Gravitational constant[N*m^2*kg^-2] (Carroll & Ostile, APPENDIX A 2018)\n",
    "G = 6.673*10**-11\n",
    "pi = 3.14\n",
    "\n",
    "# Find all the masses of samples\n",
    "M_jups = 4 * pi**2 * axis_a**3/(G * period**2)\n",
    "\n",
    "# Get the mean value\n",
    "M_jup = sum(M_jups)/len(M_jups) \n",
    "print(\"Jupiter's mass is\",M_jup,\"kg\") #Include units!"
   ]
  },
  {
   "cell_type": "code",
   "execution_count": 14,
   "id": "67a564b9",
   "metadata": {},
   "outputs": [],
   "source": [
    "# Box for rough work, calculations, etc.\n",
    "# You can always add extra cells to perform calculations, test things, etc. but submit a clean version please.\n"
   ]
  },
  {
   "cell_type": "markdown",
   "id": "8d573c3f",
   "metadata": {},
   "source": [
    "## References ##\n",
    "Carroll, B. W., &amp; Ostlie, D. A. (2018). Solar System Data. In An introduction to modern astrophysics (pp. APPENDIX A-APPENDIX A). essay, Cambridge University Press. "
   ]
  },
  {
   "cell_type": "code",
   "execution_count": null,
   "id": "71f8fded",
   "metadata": {},
   "outputs": [],
   "source": []
  },
  {
   "cell_type": "code",
   "execution_count": null,
   "id": "63c44571",
   "metadata": {},
   "outputs": [],
   "source": []
  },
  {
   "cell_type": "code",
   "execution_count": null,
   "id": "54ae062c",
   "metadata": {},
   "outputs": [],
   "source": []
  }
 ],
 "metadata": {
  "kernelspec": {
   "display_name": "Python 3 (ipykernel)",
   "language": "python",
   "name": "python3"
  },
  "language_info": {
   "codemirror_mode": {
    "name": "ipython",
    "version": 3
   },
   "file_extension": ".py",
   "mimetype": "text/x-python",
   "name": "python",
   "nbconvert_exporter": "python",
   "pygments_lexer": "ipython3",
   "version": "3.9.1"
  }
 },
 "nbformat": 4,
 "nbformat_minor": 5
}
