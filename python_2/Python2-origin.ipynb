{
 "cells": [
  {
   "cell_type": "markdown",
   "id": "ec7c31fb",
   "metadata": {},
   "source": [
    "## FILL IN YOUR NAME AND UTORID HERE\n",
    "\n",
    "Python Assignment 2: A simple stellar model \n",
    "==========================================================\n",
    "\n",
    "## Before you begin\n",
    "\n",
    "Assuming you have loaded this file into your Jupyter Notebooks workspace, make sure to press the \"play\" button at the top of the page in each box. This will render the Markdown into nicely-formatted text and execute all of the sections of Python code. You can also hit \"shift\"+\"enter\" for the same result. \n",
    "\n",
    "You will need to upload the text file \"bs05_agsop.txt' to your syzygy folder or wherever you are running your jupyter notebook. \n",
    "\n",
    "## Introduction\n",
    "\n",
    "This Jupyter Notebook will serve as the template for your Python 2 assignment. You will be working through the content it contains and then filling in your own work in the spaces provided. There are detailed instructions on how to prepare your assignment available on Quercus. Make sure you consult those instructions.\n",
    "\n",
    "In this notebook, you will use the theoretical equations you derived for density, pressure, and temperature as a function of radius given our simple density model. You will read in values for $r$, $\\rho$, $P$, and $T$ that were derived from a full stellar model, and see how well we are able to reproduce the full stellar model with a simple approximation for the density. \n",
    "\n",
    "## PART 1: Read in the full stellar model data\n",
    "\n",
    "Follow the method in Python 1 to read in the needed columns from the stellar model data file. You will need to set the following parameters in np.loadtxt: usecols, skiprows. Be sure to set unpack = True. Most error messages stem from incorrect mapping of parameters to columns, or an incorrect number of rows at the top of the file to skip. (Other issues include unclosed brackets and the like, so check your lines carefully!)\n",
    "\n",
    "Open the file in your favourite text editor (or in syzygy) to figure out which columns you will need and understand their units. "
   ]
  },
  {
   "cell_type": "code",
   "execution_count": null,
   "id": "dd25ceb2",
   "metadata": {},
   "outputs": [],
   "source": [
    "# QUESTION 1: (1 point) Read in the full stellar model data by modifying the code below\n",
    "# Import the needed packages\n",
    "import numpy as np\n",
    "\n",
    "# Change these array names to something more useful\n",
    "# Modify the filename\n",
    "# Modify the skiprows and usecols to read the correct column to the corresponding array\n",
    "array1, array2, array3, array4, array5 = np.loadtxt(filename,skiprows=5,usecols=(0,1,2,3,4),unpack=True)\n",
    "\n",
    "# Modify the print statement below to print out the first ten values of r and density\n",
    "\n",
    "print('First ten values of R/Rsun: '+ str(array1[0]))\n",
    "print('First ten values of rho: ' + str(array2[0]))\n"
   ]
  },
  {
   "cell_type": "markdown",
   "id": "53cab792",
   "metadata": {},
   "source": [
    "The units for the pressure in this file are dyne/cm$^2$. The units for temperature are K. The units for density are g/cm$^3$. You can either perform your calculations below in cgs to obtain the correct units, or you can convert the values in the stellar model to SI. \n",
    "\n",
    "1 dyne = 1 g cm/s$^2$\n",
    "\n",
    "1 dyne/cm$^2$ = 1 N/m$^2$ = 0.1 Pa\n",
    "\n",
    "1 g/cm$^3$ = 1000 kg/m$^3$\n",
    "\n",
    "If you prefer to convert the stellar model data into SI units, do so in the next step. "
   ]
  },
  {
   "cell_type": "markdown",
   "id": "42a63f43",
   "metadata": {},
   "source": [
    "## Part 2: Calculate the stellar parameters as a function of radius from the simple stellar model\n",
    "From your simple stellar model, we have equations for $\\rho(r)$, $m(r)$, $P(r)$, and $T(r)$. Note that your equations all have terms in $r/R$, rather than just $r$. In the complete stellar model data, the radius is normalized and therefore also given in $r/R$. The means that we can use the normalized radius array as an input to calculate our values of the stellar parameters as a function of radius. \n",
    "\n",
    "Python is very useful for doing calculations like this, where we can use an array in $r$ to calculate $\\rho(r)$ at every $r$ in the array. \n",
    "\n",
    "Some of the mathematical operators you will need:\n",
    "\n",
    "x to the power of y = x**y\n",
    "\n",
    "square root of a number = np.sqrt{number} or number**(1/2)\n",
    "\n",
    "x times y = x\\* y\n",
    "\n",
    "x divided by y = x/y\n",
    "\n",
    "Recall the order of operations - python will perform brackets, exponents, division and multiplication, addition and subtraction in that order! So use brackets to ensure your calculations are performed the way you want them to be done. \n",
    "\n",
    "When doing calculations, it is much easier to set variables for the constants you will use frequently. This allows you to see more clearly what parameters you are using in your calculations. Then when doing mathematical operations, you can use those variables in place of the numbers. As an example, run the cell below:"
   ]
  },
  {
   "cell_type": "code",
   "execution_count": null,
   "id": "8f8f76e0",
   "metadata": {},
   "outputs": [],
   "source": [
    "# Example of calculations with variables\n",
    "a = 5\n",
    "b = 7\n",
    "\n",
    "# Make a new variable that multiplies the first two together:\n",
    "c = a*b\n",
    "\n",
    "# This is another way of including results in a print statement. Within the curly brackets {},\n",
    "# the number gives the index of the list in 'format' to print in that location. \n",
    "print('{0} x {1} = {2}'.format(a,b,c))"
   ]
  },
  {
   "cell_type": "markdown",
   "id": "b55ef56d",
   "metadata": {},
   "source": [
    "To practice doing calculations, set up your constants and calculate your value for $\\rho_c$ in the block below. \n",
    "\n",
    "You can also use the astropy package, which includes libraries of constants and units. If you're careful to include the correct units for all your variables and constants, you can also use astropy to convert between units in your final answer. See more documentation here:\n",
    "\n",
    "[astropy units](https://docs.astropy.org/en/stable/units/)\n",
    "\n",
    "[astropy_constants](https://docs.astropy.org/en/stable/constants/index.html)"
   ]
  },
  {
   "cell_type": "code",
   "execution_count": null,
   "id": "05f74b97",
   "metadata": {},
   "outputs": [],
   "source": [
    "# QUESTION 2 (2 points)\n",
    "# Set up constants, e.g. M_Sun, R_Sun, etc.\n",
    "# numpy already has pi defined as np.pi\n",
    "# If you want to try astropy units and constants, you need to import the libraries:\n",
    "import astropy.constants as c\n",
    "import astropy.units as u\n",
    "\n",
    "# Here setting mu 0.61 for the Sun, where mu = the mean particle mass\n",
    "mu = 0.61 \n",
    "# Set up your own constants here. Add a comment for each that shows units.  \n",
    "\n",
    "\n",
    "# Calculate rho_c. Be sure to use reasonable and consistent units! \n",
    "rho_c = \n",
    "print('My rho_c = '+str(rho_c)+' [units].')\n",
    "\n",
    "# If you are converting the solar model data to different units, do so here:\n",
    "# (You can make new arrays, i.e., array1_new = array1 * factor, \n",
    "# or simply say array1 = array1 * factor. Probably one of these is better in terms of \n",
    "# proper coding practice, but do what works for you.)\n",
    "\n"
   ]
  },
  {
   "cell_type": "markdown",
   "id": "71ba39ed",
   "metadata": {},
   "source": [
    "So our equation for $\\rho(r) = \\rho_c * (1-r/R)$. Since our radius array is normalized, we can rewrite this as $\\rho(x) = \\rho_c * (1-x)$. Once you've calculated $\\rho_c$, run the block below to see how we can create an array for $\\rho(r)$ in python. "
   ]
  },
  {
   "cell_type": "code",
   "execution_count": null,
   "id": "1ee86429",
   "metadata": {},
   "outputs": [],
   "source": [
    "# Use the equation for density in your simple stellar model to calculate rho(r)\n",
    "# Here I'm just reloading the normalized radius (r/R) column so you don't have to edit the cell.\n",
    "rnorm = np.loadtxt('bs05_agsop.txt', skiprows=26, unpack=True, usecols=(1))\n",
    "\n",
    "# By multiplying rho_c by the rnorm array, we create an array in my_rho_r\n",
    "my_rho_r = rho_c * (1 - rnorm)\n",
    "\n",
    "# Print the first ten values to show you have an array!\n",
    "print(my_rho_r[0:9])\n",
    "\n",
    "# Plot the density as a function of radius, see that it's linear! \n",
    "# First, we need to import the matplotlib.pyplot library\n",
    "import matplotlib.pyplot as plt\n",
    "import matplotlib\n",
    "# This command allows your plots to show up below your code in your Jupyter notebook\n",
    "%matplotlib inline\n",
    "\n",
    "# Create a figure to plot in. Inside the brackets, you can set things like figsize=(6,4), \n",
    "# or the dpi (dots per inch). \n",
    "fig=plt.figure()\n",
    "\n",
    "plt.plot(rnorm, my_rho_r, color='black') \n",
    "\n",
    "# Always add axis labels! Include units when needed. \n",
    "plt.xlabel('Normalized radius (r/R)')\n",
    "plt.ylabel('Density (g/cm^3)') # NOTE: Modify units here if you are not using cgs! "
   ]
  },
  {
   "cell_type": "code",
   "execution_count": null,
   "id": "d1271cab",
   "metadata": {},
   "outputs": [],
   "source": [
    "# QUESTION 3: (2 points) Make arrays for P and T as a function of r/R\n",
    "# Follow the method for density, and use the normalized radius for your r/R terms\n",
    "# Watch units! \n",
    "\n",
    "my_press = \n",
    "\n",
    "my_temp = \n",
    "\n",
    "# Print the first 10 values for your pressure and temperature arrays:\n",
    "\n",
    "print('First ten values of pressure: ')\n",
    "print(my_press[0:9])\n",
    "print('First ten values of temperature: ')\n",
    "print(my_temp)"
   ]
  },
  {
   "cell_type": "markdown",
   "id": "0c9b82c7",
   "metadata": {},
   "source": [
    "## Part 3: Plot your results and compare with the full stellar model\n",
    "\n",
    "In the next three cells, create a plot for each of your density, pressure, and temperature models as a function of the normalized radius. Plot your derived values with black lines. Be sure to label your axes. \n",
    "\n",
    "In the same figure, plot the full solar model results with red lines. \n",
    "\n",
    "Make both x and y axes in log scale. \n",
    "\n",
    "The above plot for density is filled in the first cell to get you started. "
   ]
  },
  {
   "cell_type": "code",
   "execution_count": null,
   "id": "2408a603",
   "metadata": {},
   "outputs": [],
   "source": [
    "# QUESTION 4: (1 point) Plot density\n",
    "\n",
    "fig=plt.figure()\n",
    "\n",
    "plt.plot(rnorm, my_rho_r, color='black') \n",
    "\n",
    "# Always add axis labels! Include units when needed. \n",
    "plt.xlabel('Normalized radius (r/R)')\n",
    "plt.ylabel('Density (g/cm^3)')\n",
    "\n",
    "# Add the standard model here, make sure you edit 'array1' to what you named the solar model\n",
    "# array for density\n",
    "plt.plot(rnorm, array1, color='red')\n",
    "\n",
    "# Log axes\n",
    "plt.xscale('log')\n",
    "plt.yscale('log')"
   ]
  },
  {
   "cell_type": "code",
   "execution_count": null,
   "id": "e0c4c21a",
   "metadata": {},
   "outputs": [],
   "source": [
    "# QUESTION 5: (2 points) Plot pressure\n"
   ]
  },
  {
   "cell_type": "code",
   "execution_count": null,
   "id": "cb2a0ace",
   "metadata": {},
   "outputs": [],
   "source": [
    "# QUESTION 6: (2 points) Plot temperature\n"
   ]
  },
  {
   "cell_type": "markdown",
   "id": "9b6160cd",
   "metadata": {},
   "source": [
    "While our results aren't perfect, you will hopefully find that we are generally within an order of magnitude of the solar model, which is impressive considering we are not including energy generation, opacity, etc.! "
   ]
  },
  {
   "cell_type": "code",
   "execution_count": null,
   "id": "278593bb",
   "metadata": {},
   "outputs": [],
   "source": []
  }
 ],
 "metadata": {
  "kernelspec": {
   "display_name": "Python 3 (ipykernel)",
   "language": "python",
   "name": "python3"
  },
  "language_info": {
   "codemirror_mode": {
    "name": "ipython",
    "version": 3
   },
   "file_extension": ".py",
   "mimetype": "text/x-python",
   "name": "python",
   "nbconvert_exporter": "python",
   "pygments_lexer": "ipython3",
   "version": "3.9.1"
  }
 },
 "nbformat": 4,
 "nbformat_minor": 5
}
